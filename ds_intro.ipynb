{
  "nbformat": 4,
  "nbformat_minor": 0,
  "metadata": {
    "colab": {
      "name": "data_science_intro.ipynb",
      "provenance": [],
      "collapsed_sections": [],
      "toc_visible": true,
      "authorship_tag": "ABX9TyOjbesnEBiattunPWlJLaBb",
      "include_colab_link": true
    },
    "kernelspec": {
      "name": "python3",
      "display_name": "Python 3"
    },
    "language_info": {
      "name": "python"
    }
  },
  "cells": [
    {
      "cell_type": "markdown",
      "metadata": {
        "id": "view-in-github",
        "colab_type": "text"
      },
      "source": [
        "<a href=\"https://colab.research.google.com/github/SmiejaGrzegorz/data_science/blob/main/ds_intro.ipynb\" target=\"_parent\"><img src=\"https://colab.research.google.com/assets/colab-badge.svg\" alt=\"Open In Colab\"/></a>"
      ]
    },
    {
      "cell_type": "code",
      "metadata": {
        "id": "zjRoUU-ZxMDb"
      },
      "source": [
        "print(\"Hello World !!!\")"
      ],
      "execution_count": null,
      "outputs": []
    },
    {
      "cell_type": "markdown",
      "metadata": {
        "id": "RLs31bAT3_ss"
      },
      "source": [
        "### NumPy"
      ]
    },
    {
      "cell_type": "markdown",
      "metadata": {
        "id": "xgXMU2o44U-A"
      },
      "source": [
        "Podstawy\n"
      ]
    },
    {
      "cell_type": "code",
      "metadata": {
        "id": "R8av6GxQ4YcL",
        "colab": {
          "base_uri": "https://localhost:8080/",
          "height": 36
        },
        "outputId": "a472f7a2-3e47-4e05-e9b6-a2a9ece5e1a9"
      },
      "source": [
        "import numpy as np\n",
        "np.__version__"
      ],
      "execution_count": 1,
      "outputs": [
        {
          "output_type": "execute_result",
          "data": {
            "application/vnd.google.colaboratory.intrinsic+json": {
              "type": "string"
            },
            "text/plain": [
              "'1.19.5'"
            ]
          },
          "metadata": {
            "tags": []
          },
          "execution_count": 1
        }
      ]
    },
    {
      "cell_type": "code",
      "metadata": {
        "id": "JGF1cfLV4tuk"
      },
      "source": [
        "a = np.full(shape=(3, 3), fill_value=5, dtype='int')\n",
        "print(a)"
      ],
      "execution_count": null,
      "outputs": []
    },
    {
      "cell_type": "code",
      "metadata": {
        "id": "qDr6lEK6uOOW"
      },
      "source": [
        "b = np.arange(1, 21, 2)\n",
        "print(b)\n",
        "print('\\n')\n",
        "print(b.reshape(-1, 2))\n",
        "print('\\n')\n",
        "b.dtype"
      ],
      "execution_count": null,
      "outputs": []
    },
    {
      "cell_type": "code",
      "metadata": {
        "id": "8ViKOy3CuUG6"
      },
      "source": [
        "c = np.zeros(shape=(4, 6), dtype='int')\n",
        "print(c)\n",
        "print('\\n')\n",
        "print(c.reshape(6, -1))"
      ],
      "execution_count": null,
      "outputs": []
    },
    {
      "cell_type": "code",
      "metadata": {
        "id": "c6QPRAj2vWd2"
      },
      "source": [
        "a = np.full(shape=(1, 5), fill_value=2, dtype=int)\n",
        "b = np.full(shape=(1, 5), fill_value=5, dtype=int)\n",
        "print(a)\n",
        "print(b)"
      ],
      "execution_count": null,
      "outputs": []
    },
    {
      "cell_type": "code",
      "metadata": {
        "id": "0LNY4sxhQ5aK"
      },
      "source": [
        "a + b"
      ],
      "execution_count": null,
      "outputs": []
    },
    {
      "cell_type": "code",
      "metadata": {
        "id": "dlpM6kjpRkV9"
      },
      "source": [
        "c = np.array([1, 2, 3, 4])\n",
        "d = np.array([9, 8, 7, 6])\n",
        "print(c)\n",
        "print(d)"
      ],
      "execution_count": null,
      "outputs": []
    },
    {
      "cell_type": "code",
      "metadata": {
        "id": "AiuUrQaUR3do"
      },
      "source": [
        "c + d"
      ],
      "execution_count": null,
      "outputs": []
    },
    {
      "cell_type": "code",
      "metadata": {
        "id": "wFtVM9yiR42A"
      },
      "source": [
        "c * d"
      ],
      "execution_count": null,
      "outputs": []
    },
    {
      "cell_type": "code",
      "metadata": {
        "id": "9O9vIGC9SIzh"
      },
      "source": [
        "A1 = np.array([[1, 3], [4,5]])\n",
        "A2 = np.array([[3, 3], [2, 1]])\n",
        "print(A1)\n",
        "print(A2)"
      ],
      "execution_count": null,
      "outputs": []
    },
    {
      "cell_type": "code",
      "metadata": {
        "colab": {
          "base_uri": "https://localhost:8080/"
        },
        "id": "KhmpqncEYyTc",
        "outputId": "277a4bee-3f8f-41b0-ad35-1a93fef4fb2b"
      },
      "source": [
        "A1 * A2"
      ],
      "execution_count": null,
      "outputs": [
        {
          "output_type": "execute_result",
          "data": {
            "text/plain": [
              "array([[3, 9],\n",
              "       [8, 5]])"
            ]
          },
          "metadata": {
            "tags": []
          },
          "execution_count": 47
        }
      ]
    },
    {
      "cell_type": "markdown",
      "metadata": {
        "id": "OFwLLYGjZHOx"
      },
      "source": [
        "###mnożenie macierzy"
      ]
    },
    {
      "cell_type": "code",
      "metadata": {
        "id": "AX5WmcgEZJjK"
      },
      "source": [
        "np.dot(A1, A2)"
      ],
      "execution_count": null,
      "outputs": []
    },
    {
      "cell_type": "code",
      "metadata": {
        "id": "dUU_Vz9layZ5"
      },
      "source": [
        "a1 = np.random.randint(10, size=(2, 2))\n",
        "a2 = np.random.randint(10, size=(2, 2))"
      ],
      "execution_count": 39,
      "outputs": []
    },
    {
      "cell_type": "code",
      "metadata": {
        "colab": {
          "base_uri": "https://localhost:8080/"
        },
        "id": "ABGg9FVib_Vi",
        "outputId": "04786982-3e70-4420-f051-1abd2e545e7c"
      },
      "source": [
        "print(a1, '\\n')\n",
        "print(a2)"
      ],
      "execution_count": 40,
      "outputs": [
        {
          "output_type": "stream",
          "text": [
            "[[7 0]\n",
            " [1 9]] \n",
            "\n",
            "[[9 0]\n",
            " [4 7]]\n"
          ],
          "name": "stdout"
        }
      ]
    },
    {
      "cell_type": "code",
      "metadata": {
        "colab": {
          "base_uri": "https://localhost:8080/"
        },
        "id": "muY1NYxKbC2E",
        "outputId": "d334843d-a12b-431a-c8b1-5c11e2795f7a"
      },
      "source": [
        "np.dot(a1, a2)"
      ],
      "execution_count": 41,
      "outputs": [
        {
          "output_type": "execute_result",
          "data": {
            "text/plain": [
              "array([[63,  0],\n",
              "       [45, 63]])"
            ]
          },
          "metadata": {
            "tags": []
          },
          "execution_count": 41
        }
      ]
    },
    {
      "cell_type": "code",
      "metadata": {
        "colab": {
          "base_uri": "https://localhost:8080/"
        },
        "id": "GboZbsyDbGXm",
        "outputId": "4bea7bcf-5446-45ae-89b0-a90847a90245"
      },
      "source": [
        "a1.dot(a2)"
      ],
      "execution_count": 42,
      "outputs": [
        {
          "output_type": "execute_result",
          "data": {
            "text/plain": [
              "array([[63,  0],\n",
              "       [45, 63]])"
            ]
          },
          "metadata": {
            "tags": []
          },
          "execution_count": 42
        }
      ]
    },
    {
      "cell_type": "code",
      "metadata": {
        "id": "NZaUdqm_jRPu"
      },
      "source": [
        "a2.dot(a1)"
      ],
      "execution_count": null,
      "outputs": []
    },
    {
      "cell_type": "code",
      "metadata": {
        "id": "ckhQGuCRjUGS"
      },
      "source": [
        "print(a1 @ a2)\n",
        "print(a2 @ a1)"
      ],
      "execution_count": null,
      "outputs": []
    },
    {
      "cell_type": "markdown",
      "metadata": {
        "id": "TeqRgXtHvfBc"
      },
      "source": [
        "### generowanie liczb pseudolosowych"
      ]
    },
    {
      "cell_type": "code",
      "metadata": {
        "id": "VD5mOn_g8cuG"
      },
      "source": [
        "np.random.seed(0)\n",
        "np.random.randn(1, 2) #losowy rozkład normalny"
      ],
      "execution_count": null,
      "outputs": []
    },
    {
      "cell_type": "code",
      "metadata": {
        "id": "wDMPUqkKjcEV"
      },
      "source": [
        "np.random.randn(1, 2)"
      ],
      "execution_count": null,
      "outputs": []
    },
    {
      "cell_type": "code",
      "metadata": {
        "id": "nebShjrM80Hp"
      },
      "source": [
        "np.random.rand(4, 3) #zwraca losowową liczbe z przedziału 0 - 1"
      ],
      "execution_count": null,
      "outputs": []
    },
    {
      "cell_type": "code",
      "metadata": {
        "id": "H-K6T1pZ2clI"
      },
      "source": [
        "np.random.randint(low=10, high=100) #zwraca losową liczbe z przedziału 10 - 100(99)"
      ],
      "execution_count": null,
      "outputs": []
    },
    {
      "cell_type": "code",
      "metadata": {
        "id": "_VTuZ-nI2hMI"
      },
      "source": [
        "np.random.choice([1, 2, 3, 4, 5, 6, 7, 8, 9]) #zwraca losowy element z podanej listy"
      ],
      "execution_count": null,
      "outputs": []
    },
    {
      "cell_type": "code",
      "metadata": {
        "id": "lkC7pUgy3RRz"
      },
      "source": [
        "np.random.choice(['jebac', 'stare', 'baby', 'prądem'])"
      ],
      "execution_count": null,
      "outputs": []
    },
    {
      "cell_type": "code",
      "metadata": {
        "colab": {
          "base_uri": "https://localhost:8080/"
        },
        "id": "doHt-_oI3ab4",
        "outputId": "b45b7422-7cd8-4b37-b29c-13b4259dfbb6"
      },
      "source": [
        "data = np.arange(1, 11)\n",
        "data"
      ],
      "execution_count": 78,
      "outputs": [
        {
          "output_type": "execute_result",
          "data": {
            "text/plain": [
              "array([ 1,  2,  3,  4,  5,  6,  7,  8,  9, 10])"
            ]
          },
          "metadata": {
            "tags": []
          },
          "execution_count": 78
        }
      ]
    },
    {
      "cell_type": "code",
      "metadata": {
        "colab": {
          "base_uri": "https://localhost:8080/"
        },
        "id": "kY0hF2to3jPv",
        "outputId": "66119ccf-fe0a-4c27-b4f0-008a873b91f8"
      },
      "source": [
        "np.random.shuffle(data) #shuffle miesza, zmienia kolejność elementów\n",
        "data"
      ],
      "execution_count": 64,
      "outputs": [
        {
          "output_type": "execute_result",
          "data": {
            "text/plain": [
              "array([2, 5, 3, 1, 6, 0, 8, 7, 4, 9])"
            ]
          },
          "metadata": {
            "tags": []
          },
          "execution_count": 64
        }
      ]
    },
    {
      "cell_type": "markdown",
      "metadata": {
        "id": "BlBBxBAn37FT"
      },
      "source": [
        "### podstawowe funckje"
      ]
    },
    {
      "cell_type": "code",
      "metadata": {
        "id": "nZAAoAbZ3_rH"
      },
      "source": [
        "np.exp(data) #zwraca exponent(wykładnik)"
      ],
      "execution_count": null,
      "outputs": []
    },
    {
      "cell_type": "code",
      "metadata": {
        "id": "G6WkcqhO5GAG"
      },
      "source": [
        "data1 = np.array([1, 2, 3])\n",
        "x = np.exp(data1)\n",
        "x"
      ],
      "execution_count": null,
      "outputs": []
    },
    {
      "cell_type": "code",
      "metadata": {
        "id": "3HBSPntH5aXK"
      },
      "source": [
        "np.sqrt(1) #zwraca pierwiastek kwadratowy z podanego elementu (zawssze float)"
      ],
      "execution_count": null,
      "outputs": []
    },
    {
      "cell_type": "code",
      "metadata": {
        "id": "fucAcDvV6gfT"
      },
      "source": [
        "np.all(data) #iteruje po elementach i zwraca True/False "
      ],
      "execution_count": null,
      "outputs": []
    },
    {
      "cell_type": "code",
      "metadata": {
        "id": "kcpR7DOW8wgY"
      },
      "source": [
        "print(np.any([1, 2, 3])) #zwraca True/False jeśli jakikolwiek elemetn jest True\n",
        "print(np.any([0, 0, 0]))"
      ],
      "execution_count": null,
      "outputs": []
    },
    {
      "cell_type": "code",
      "metadata": {
        "id": "KBTTu94l82e5"
      },
      "source": [
        "a1 = np.random.randn(5)\n",
        "a1"
      ],
      "execution_count": null,
      "outputs": []
    },
    {
      "cell_type": "code",
      "metadata": {
        "id": "zCVoi_no-EZk"
      },
      "source": [
        "np.argmax(a1) #zwraca INDEKS(np. a1[1], a1[0]) największego elementu w tym przypdaku w lisćie"
      ],
      "execution_count": null,
      "outputs": []
    },
    {
      "cell_type": "code",
      "metadata": {
        "id": "qw0znY5t-e7o"
      },
      "source": [
        "a1[np.argmax(a1)] #możliwość zwrócenia wyniku funkcji np.argmax(); robimy wycinek"
      ],
      "execution_count": null,
      "outputs": []
    },
    {
      "cell_type": "code",
      "metadata": {
        "id": "JBM3Xra2_E5T"
      },
      "source": [
        "np.argmin(a1) #odwrotność np.argmax(); zwraca najmniejszy element"
      ],
      "execution_count": null,
      "outputs": []
    },
    {
      "cell_type": "code",
      "metadata": {
        "id": "BErrbnqI_Uhi"
      },
      "source": [
        "a1[np.argmin(a1)]"
      ],
      "execution_count": null,
      "outputs": []
    },
    {
      "cell_type": "code",
      "metadata": {
        "id": "rxsbE20H_y2F"
      },
      "source": [
        "np.argsort(a1) #sortuje zwracając indeksy elementów (sortowanie rosnąco); działa przy klasyfikacji wieloklasowej"
      ],
      "execution_count": null,
      "outputs": []
    },
    {
      "cell_type": "code",
      "metadata": {
        "id": "1zL4c3NMAZ6C"
      },
      "source": [
        "np.max(a1) #zwraca największą wartość"
      ],
      "execution_count": null,
      "outputs": []
    },
    {
      "cell_type": "code",
      "metadata": {
        "id": "re6HoZPkAs-g"
      },
      "source": [
        "np.min(a1) #zwraca najmniejszą wartość"
      ],
      "execution_count": null,
      "outputs": []
    },
    {
      "cell_type": "code",
      "metadata": {
        "id": "1cE86KxgA7vL"
      },
      "source": [
        "np.mean(a1) #zwraca średnią wszystkich wartości"
      ],
      "execution_count": null,
      "outputs": []
    },
    {
      "cell_type": "code",
      "metadata": {
        "id": "kOfvj3nsBHQo"
      },
      "source": [
        "np.median(a1) #zwraca medianę"
      ],
      "execution_count": null,
      "outputs": []
    },
    {
      "cell_type": "code",
      "metadata": {
        "id": "JDa9s4Y2BOAe"
      },
      "source": [
        "np.std(a1) #zwraca odchylenie standardowe"
      ],
      "execution_count": null,
      "outputs": []
    },
    {
      "cell_type": "markdown",
      "metadata": {
        "id": "J6HnAwv7CTTZ"
      },
      "source": [
        "### indeksowanie"
      ]
    },
    {
      "cell_type": "code",
      "metadata": {
        "colab": {
          "base_uri": "https://localhost:8080/"
        },
        "id": "OiBxwKwkCVVr",
        "outputId": "c9d82209-e63c-411b-d792-3e34812a115d"
      },
      "source": [
        "data = np.arange(1, 21)\n",
        "data"
      ],
      "execution_count": 8,
      "outputs": [
        {
          "output_type": "execute_result",
          "data": {
            "text/plain": [
              "array([ 1,  2,  3,  4,  5,  6,  7,  8,  9, 10, 11, 12, 13, 14, 15, 16, 17,\n",
              "       18, 19, 20])"
            ]
          },
          "metadata": {
            "tags": []
          },
          "execution_count": 8
        }
      ]
    },
    {
      "cell_type": "markdown",
      "metadata": {
        "id": "Eg4BGMPBC2Sa"
      },
      "source": [
        "**A[indeks], A[start:stop], A[:stop], A[start:]**"
      ]
    },
    {
      "cell_type": "code",
      "metadata": {
        "colab": {
          "base_uri": "https://localhost:8080/"
        },
        "id": "gUk_9vv2Cmf4",
        "outputId": "8ae9c4a0-eee9-45ed-efdc-12c2535a9811"
      },
      "source": [
        "data[3] #wycinek tablicy"
      ],
      "execution_count": 9,
      "outputs": [
        {
          "output_type": "execute_result",
          "data": {
            "text/plain": [
              "4"
            ]
          },
          "metadata": {
            "tags": []
          },
          "execution_count": 9
        }
      ]
    },
    {
      "cell_type": "code",
      "metadata": {
        "colab": {
          "base_uri": "https://localhost:8080/"
        },
        "id": "Io3Vpm_VEP5B",
        "outputId": "8f60f921-3f6a-4951-9c0e-e364362f2ee9"
      },
      "source": [
        "data = data.reshape(4, 5)\n",
        "data"
      ],
      "execution_count": 10,
      "outputs": [
        {
          "output_type": "execute_result",
          "data": {
            "text/plain": [
              "array([[ 1,  2,  3,  4,  5],\n",
              "       [ 6,  7,  8,  9, 10],\n",
              "       [11, 12, 13, 14, 15],\n",
              "       [16, 17, 18, 19, 20]])"
            ]
          },
          "metadata": {
            "tags": []
          },
          "execution_count": 10
        }
      ]
    },
    {
      "cell_type": "code",
      "metadata": {
        "colab": {
          "base_uri": "https://localhost:8080/"
        },
        "id": "fJUG84KfETWo",
        "outputId": "dece1f65-25e4-415c-b71d-56a990b4fcba"
      },
      "source": [
        "data[0][1] #zwraca podanym indeks po zastosowaniu np.reshape()"
      ],
      "execution_count": 10,
      "outputs": [
        {
          "output_type": "execute_result",
          "data": {
            "text/plain": [
              "2"
            ]
          },
          "metadata": {
            "tags": []
          },
          "execution_count": 10
        }
      ]
    },
    {
      "cell_type": "code",
      "metadata": {
        "colab": {
          "base_uri": "https://localhost:8080/"
        },
        "id": "Gm5_D9KLPAgR",
        "outputId": "0d3346b7-0d3d-4759-a404-24958b80dd68"
      },
      "source": [
        "data[:, 2] #data[:, indeks kolumny] - taki zapis zwraca kolumne z podanym indeksem"
      ],
      "execution_count": 13,
      "outputs": [
        {
          "output_type": "execute_result",
          "data": {
            "text/plain": [
              "array([ 3,  8, 13, 18])"
            ]
          },
          "metadata": {
            "tags": []
          },
          "execution_count": 13
        }
      ]
    },
    {
      "cell_type": "code",
      "metadata": {
        "colab": {
          "base_uri": "https://localhost:8080/"
        },
        "id": "8OHH6JbzRqoo",
        "outputId": "43f77ccd-6a03-489f-aba1-695ce98e6fed"
      },
      "source": [
        "data[2, 3] #zwraca dokładny element data[indeks wiersza, indeks kolumny]"
      ],
      "execution_count": 15,
      "outputs": [
        {
          "output_type": "execute_result",
          "data": {
            "text/plain": [
              "14"
            ]
          },
          "metadata": {
            "tags": []
          },
          "execution_count": 15
        }
      ]
    },
    {
      "cell_type": "code",
      "metadata": {
        "colab": {
          "base_uri": "https://localhost:8080/"
        },
        "id": "I09Xps5dSdSz",
        "outputId": "115d28a1-8eab-4a87-ac08-382824e9b1e5"
      },
      "source": [
        "data[2:4, 2:4] #zaraca wiekszy fragment tablicy "
      ],
      "execution_count": 18,
      "outputs": [
        {
          "output_type": "execute_result",
          "data": {
            "text/plain": [
              "array([[13, 14],\n",
              "       [18, 19]])"
            ]
          },
          "metadata": {
            "tags": []
          },
          "execution_count": 18
        }
      ]
    },
    {
      "cell_type": "code",
      "metadata": {
        "id": "Pm-_IVyGTJDP"
      },
      "source": [
        "data[0, 4] = 88 #istnieje możliwość zastąpienia wycieętego elementu innym\n",
        "data"
      ],
      "execution_count": null,
      "outputs": []
    },
    {
      "cell_type": "markdown",
      "metadata": {
        "id": "KrC4ZCdYTfM6"
      },
      "source": [
        "### iteracja po tablicach, zmiania rozmiaru oraz maski logiczne"
      ]
    },
    {
      "cell_type": "markdown",
      "metadata": {
        "id": "9gdP6N5iT7vn"
      },
      "source": [
        "iteracja po tablicach"
      ]
    },
    {
      "cell_type": "code",
      "metadata": {
        "id": "9zb_TKqLT9VH"
      },
      "source": [
        "for el in data: #iteracja co tablicy w tym przypadku: data\n",
        "  print(el)"
      ],
      "execution_count": null,
      "outputs": []
    },
    {
      "cell_type": "code",
      "metadata": {
        "id": "--nrDPWwUXmn"
      },
      "source": [
        "for item in data: #iteracja po wybranej kolumnie\n",
        "  print(item[1])"
      ],
      "execution_count": null,
      "outputs": []
    },
    {
      "cell_type": "code",
      "metadata": {
        "id": "k7-clBywwH7E"
      },
      "source": [
        "data[0, 4] = 5\n",
        "data"
      ],
      "execution_count": null,
      "outputs": []
    },
    {
      "cell_type": "code",
      "metadata": {
        "id": "5ghImooBUpK7"
      },
      "source": [
        "for item in data.flat: #dzięki funkcji np.flat możemy iterować po każdym elemencie\n",
        "  print(item)"
      ],
      "execution_count": null,
      "outputs": []
    },
    {
      "cell_type": "markdown",
      "metadata": {
        "id": "mdMgNW3GyZUI"
      },
      "source": [
        "zmiana rozmiaru tablic"
      ]
    },
    {
      "cell_type": "code",
      "metadata": {
        "id": "6WGllfr0ycOJ"
      },
      "source": [
        "data.reshape(-1, 2) #zmiania postac tablicy jak wyżej"
      ],
      "execution_count": null,
      "outputs": []
    },
    {
      "cell_type": "code",
      "metadata": {
        "id": "FVxlCcbaylaR"
      },
      "source": [
        "data.ravel() #powtót do płąskiej postaci tablicy; odwrotność funkcji .reshape()"
      ],
      "execution_count": null,
      "outputs": []
    },
    {
      "cell_type": "code",
      "metadata": {
        "id": "2aK2sGLSzH4D"
      },
      "source": [
        "data"
      ],
      "execution_count": null,
      "outputs": []
    },
    {
      "cell_type": "code",
      "metadata": {
        "id": "3zx_kl34y708"
      },
      "source": [
        "data.T #transponowanie; zaminia wiersza na kolumne, kolumny na wiersz"
      ],
      "execution_count": null,
      "outputs": []
    },
    {
      "cell_type": "markdown",
      "metadata": {
        "id": "_n0YNyRq0RgW"
      },
      "source": [
        "maski logiczne"
      ]
    },
    {
      "cell_type": "code",
      "metadata": {
        "colab": {
          "base_uri": "https://localhost:8080/"
        },
        "id": "mW0frL7l0S14",
        "outputId": "4f845d37-efe4-4128-c47e-ccd26a8a26e7"
      },
      "source": [
        "A = np.arange(-10, 10, 0.5)\n",
        "A = A.reshape(10, -1)\n",
        "A"
      ],
      "execution_count": 36,
      "outputs": [
        {
          "output_type": "execute_result",
          "data": {
            "text/plain": [
              "array([[-10. ,  -9.5,  -9. ,  -8.5],\n",
              "       [ -8. ,  -7.5,  -7. ,  -6.5],\n",
              "       [ -6. ,  -5.5,  -5. ,  -4.5],\n",
              "       [ -4. ,  -3.5,  -3. ,  -2.5],\n",
              "       [ -2. ,  -1.5,  -1. ,  -0.5],\n",
              "       [  0. ,   0.5,   1. ,   1.5],\n",
              "       [  2. ,   2.5,   3. ,   3.5],\n",
              "       [  4. ,   4.5,   5. ,   5.5],\n",
              "       [  6. ,   6.5,   7. ,   7.5],\n",
              "       [  8. ,   8.5,   9. ,   9.5]])"
            ]
          },
          "metadata": {
            "tags": []
          },
          "execution_count": 36
        }
      ]
    },
    {
      "cell_type": "code",
      "metadata": {
        "colab": {
          "base_uri": "https://localhost:8080/"
        },
        "id": "93JprmLi0_Nf",
        "outputId": "d51bf0b9-afa1-41c7-e988-a5ae2f5d49b3"
      },
      "source": [
        "A > 0 #sprawdza czy wartości tablicy są ujemne zwracając True/False"
      ],
      "execution_count": 38,
      "outputs": [
        {
          "output_type": "execute_result",
          "data": {
            "text/plain": [
              "array([[False, False, False, False],\n",
              "       [False, False, False, False],\n",
              "       [False, False, False, False],\n",
              "       [False, False, False, False],\n",
              "       [False, False, False, False],\n",
              "       [False,  True,  True,  True],\n",
              "       [ True,  True,  True,  True],\n",
              "       [ True,  True,  True,  True],\n",
              "       [ True,  True,  True,  True],\n",
              "       [ True,  True,  True,  True]])"
            ]
          },
          "metadata": {
            "tags": []
          },
          "execution_count": 38
        }
      ]
    },
    {
      "cell_type": "code",
      "metadata": {
        "colab": {
          "base_uri": "https://localhost:8080/"
        },
        "id": "rG5Eofi93Bu0",
        "outputId": "ad2793ed-e783-4de6-d654-579291c887bb"
      },
      "source": [
        "A[A > 0] #dzięki tej masce wycinamy wartości większe od zera"
      ],
      "execution_count": 39,
      "outputs": [
        {
          "output_type": "execute_result",
          "data": {
            "text/plain": [
              "array([0.5, 1. , 1.5, 2. , 2.5, 3. , 3.5, 4. , 4.5, 5. , 5.5, 6. , 6.5,\n",
              "       7. , 7.5, 8. , 8.5, 9. , 9.5])"
            ]
          },
          "metadata": {
            "tags": []
          },
          "execution_count": 39
        }
      ]
    },
    {
      "cell_type": "code",
      "metadata": {
        "colab": {
          "base_uri": "https://localhost:8080/"
        },
        "id": "sy_BaxRE3ObP",
        "outputId": "e172702a-e2d2-4bc0-9d23-7f84963d3f04"
      },
      "source": [
        "A[A < 0] # działanie odwrotne  do A[A > 0]"
      ],
      "execution_count": 40,
      "outputs": [
        {
          "output_type": "execute_result",
          "data": {
            "text/plain": [
              "array([-10. ,  -9.5,  -9. ,  -8.5,  -8. ,  -7.5,  -7. ,  -6.5,  -6. ,\n",
              "        -5.5,  -5. ,  -4.5,  -4. ,  -3.5,  -3. ,  -2.5,  -2. ,  -1.5,\n",
              "        -1. ,  -0.5])"
            ]
          },
          "metadata": {
            "tags": []
          },
          "execution_count": 40
        }
      ]
    },
    {
      "cell_type": "code",
      "metadata": {
        "colab": {
          "base_uri": "https://localhost:8080/"
        },
        "id": "aKuZlN-r3ovl",
        "outputId": "4cace0d1-56dc-45e9-e02d-871c5816966e"
      },
      "source": [
        "A[A == 0]"
      ],
      "execution_count": 41,
      "outputs": [
        {
          "output_type": "execute_result",
          "data": {
            "text/plain": [
              "array([0.])"
            ]
          },
          "metadata": {
            "tags": []
          },
          "execution_count": 41
        }
      ]
    },
    {
      "cell_type": "code",
      "metadata": {
        "colab": {
          "base_uri": "https://localhost:8080/"
        },
        "id": "PFzYFCzr37za",
        "outputId": "fa0b3122-8352-49f3-ed38-d461d0288206"
      },
      "source": [
        "A[np.bitwise_and(A > -5, A < 5)] #zastępuje and"
      ],
      "execution_count": 43,
      "outputs": [
        {
          "output_type": "execute_result",
          "data": {
            "text/plain": [
              "array([-4.5, -4. , -3.5, -3. , -2.5, -2. , -1.5, -1. , -0.5,  0. ,  0.5,\n",
              "        1. ,  1.5,  2. ,  2.5,  3. ,  3.5,  4. ,  4.5])"
            ]
          },
          "metadata": {
            "tags": []
          },
          "execution_count": 43
        }
      ]
    },
    {
      "cell_type": "code",
      "metadata": {
        "id": "doN5iTYy4H6Z"
      },
      "source": [
        "A"
      ],
      "execution_count": null,
      "outputs": []
    }
  ]
}